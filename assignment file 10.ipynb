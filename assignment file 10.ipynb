{
 "cells": [
  {
   "cell_type": "code",
   "execution_count": 1,
   "id": "f9effc65-aca8-49e9-a934-5d22401f422a",
   "metadata": {},
   "outputs": [],
   "source": [
    "\n",
    "#sol1. open('file','mode') function is used to opean a file in python\n",
    "''' different mode to opean a file are as follows\n",
    "'r'       open for reading (default)\n",
    "'w'       open for writing, truncating the file first\n",
    "'x'       create a new file and open it for writing\n",
    "'a'       open for writing, appending to the end of the file if it exists\n",
    "'b'       binary mode\n",
    "'t'       text mode (default)\n",
    "'+'       open a disk file for updating (reading and writing)\n",
    "'U'       universal newline mode (deprecated)'''\n",
    "x=open('new','w')\n",
    "x.write(\"hello python\")\n",
    "x.close()\n"
   ]
  },
  {
   "cell_type": "code",
   "execution_count": null,
   "id": "c838cea1-1437-4d39-905c-4ab13843f922",
   "metadata": {},
   "outputs": [],
   "source": [
    "#2.close() function is used to close an opeaned file\n",
    "#close() is used to avoid any unitentional change once the"
   ]
  },
  {
   "cell_type": "code",
   "execution_count": 12,
   "id": "2f426ed0-03ca-4ce8-8231-a38580a9e8fa",
   "metadata": {},
   "outputs": [
    {
     "data": {
      "text/plain": [
       "'‘I want to become a Data Scientist’'"
      ]
     },
     "execution_count": 12,
     "metadata": {},
     "output_type": "execute_result"
    }
   ],
   "source": [
    "# sol3.\n",
    "ball=open(\"data.txt\",'w')\n",
    "ball.write(\"‘I want to become a Data Scientist’\")\n",
    "ball.close()\n",
    "ball=open('data.txt','r')\n",
    "ball.read()\n"
   ]
  },
  {
   "cell_type": "code",
   "execution_count": 22,
   "id": "161d60cb-5a2e-4fbc-b6d1-8e4b955860ec",
   "metadata": {},
   "outputs": [],
   "source": [
    "#4.sol\n",
    "fly=open(\"cat.txt\",\"w\")\n",
    "fly.write(\"Note: Create your assignment in Jupyter notebook and upload. it to GitHub & share that GitHub repositorylink through your dashboard. Make sure the repository is public.Note: Create your assignment in Jupyter notebook and upload it to. GitHub & share that GitHublink through your dashboard. Make sure the repository is public.\")\n",
    "fly.close()\n",
    "\n",
    "          "
   ]
  },
  {
   "cell_type": "code",
   "execution_count": 6,
   "id": "6db4ca18-be17-484b-b733-e8f2e5395ed7",
   "metadata": {},
   "outputs": [
    {
     "data": {
      "text/plain": [
       "'nd upload. it to GitHub & share that GitHub repositorylink through your dashboard. Make sure the repository is public.Note: Create your assignment in Jupyter notebook and upload it to. GitHub & share that GitHublink through your dashboard. Make sure the repository is public.'"
      ]
     },
     "execution_count": 6,
     "metadata": {},
     "output_type": "execute_result"
    }
   ],
   "source": [
    "fl=open(\"cat.txt\",\"r\")\n",
    "fl.read() # to read the content inside a file.\n",
    "fl.seek(50)\n",
    "fl.readline() # to read line from defined position pointer\n",
    "\n",
    "\n",
    "\n"
   ]
  },
  {
   "cell_type": "code",
   "execution_count": 10,
   "id": "2bcb65c0-d197-43a4-8e5a-c8557edd5313",
   "metadata": {},
   "outputs": [
    {
     "data": {
      "text/plain": [
       "['torylink through your dashboard. Make sure the repository is public.Note: Create your assignment in Jupyter notebook and upload it to. GitHub & share that GitHublink through your dashboard. Make sure the repository is public.']"
      ]
     },
     "execution_count": 10,
     "metadata": {},
     "output_type": "execute_result"
    }
   ],
   "source": [
    "fl.seek(100)\n",
    "fl.readlines() # it reads all line and returns it in a list format"
   ]
  },
  {
   "cell_type": "code",
   "execution_count": 23,
   "id": "49c3eb89-6883-4b4a-a830-97d932834a0a",
   "metadata": {},
   "outputs": [
    {
     "name": "stdout",
     "output_type": "stream",
     "text": [
      "hello brother\n"
     ]
    }
   ],
   "source": [
    "# 5.solwith open('file','mode')as f is used to opean a file and it closes the file automatically.\n",
    "with open(\"don\",'w') as dr:\n",
    "    dr.write(\"hello brother\")  \n",
    "with open(\"don\",\"r\")as t:\n",
    "    c=t.read() \n",
    "print(c)    \n",
    "\n"
   ]
  },
  {
   "cell_type": "code",
   "execution_count": 28,
   "id": "2e52e249-8ece-4c20-8b2f-f55566191bfc",
   "metadata": {},
   "outputs": [],
   "source": [
    "#sol 6.\n",
    "with open(\"data.txt\",'w') as ball:\n",
    "    ball.write(\"we have added a new line\") # used to write single string\n",
    "    ball.writelines([\"see you soon\",\"over and out\",\"we will  together\"]) # to wite multiple line in a form of list.\n",
    "    "
   ]
  },
  {
   "cell_type": "code",
   "execution_count": null,
   "id": "fb0e2e81-50f1-454d-a486-4cc30fe68c20",
   "metadata": {},
   "outputs": [],
   "source": []
  }
 ],
 "metadata": {
  "kernelspec": {
   "display_name": "Python 3 (ipykernel)",
   "language": "python",
   "name": "python3"
  },
  "language_info": {
   "codemirror_mode": {
    "name": "ipython",
    "version": 3
   },
   "file_extension": ".py",
   "mimetype": "text/x-python",
   "name": "python",
   "nbconvert_exporter": "python",
   "pygments_lexer": "ipython3",
   "version": "3.10.8"
  }
 },
 "nbformat": 4,
 "nbformat_minor": 5
}
